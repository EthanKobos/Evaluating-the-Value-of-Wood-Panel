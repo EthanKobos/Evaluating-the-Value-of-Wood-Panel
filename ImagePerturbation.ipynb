{
 "cells": [
  {
   "cell_type": "code",
   "execution_count": 2,
   "id": "8dfa2b1a-48c6-4f2b-a620-6ca4cdbf1772",
   "metadata": {
    "tags": []
   },
   "outputs": [],
   "source": [
    "import os\n",
    "import random\n",
    "from PIL import Image, ImageEnhance, ImageOps"
   ]
  },
  {
   "cell_type": "code",
   "execution_count": 3,
   "id": "4df679b7-4392-4360-b95a-c2c5f04f2d1f",
   "metadata": {
    "tags": []
   },
   "outputs": [],
   "source": [
    "def apply_random_color_modification(image):\n",
    "    enhancer = ImageEnhance.Color(image)\n",
    "    factor = random.uniform(0.5, 2)  # Adjust color randomly\n",
    "    return enhancer.enhance(factor)"
   ]
  },
  {
   "cell_type": "code",
   "execution_count": 4,
   "id": "4cc5759a-66e1-4d7b-80ac-619c1bac90fa",
   "metadata": {
    "tags": []
   },
   "outputs": [],
   "source": [
    "def apply_random_mirror(image):\n",
    "    mirror_h = random.choice([True, False])  # Random horizontal mirror\n",
    "    mirror_v = random.choice([True, False])  # Random vertical mirror\n",
    "\n",
    "    if mirror_h and mirror_v:\n",
    "        return ImageOps.mirror(ImageOps.flip(image))  # Both horizontal and vertical\n",
    "    elif mirror_h:\n",
    "        return ImageOps.mirror(image)  # Horizontal only\n",
    "    elif mirror_v:\n",
    "        return ImageOps.flip(image)  # Vertical only\n",
    "    else:\n",
    "        return image  # No mirror"
   ]
  },
  {
   "cell_type": "code",
   "execution_count": 5,
   "id": "47ae7849-a6f8-40fa-b1ca-a21ebdc15555",
   "metadata": {
    "tags": []
   },
   "outputs": [],
   "source": [
    "def process_image(input_path, output_dir):\n",
    "    image = Image.open(input_path)\n",
    "    filename, ext = os.path.splitext(os.path.basename(input_path))\n",
    "    \n",
    "    while True:\n",
    "        transformed_image = apply_random_mirror(apply_random_color_modification(image.copy()))\n",
    "        output_path = os.path.join(output_dir, f\"{filename}_transformed_{random.randint(0, 999999)}{ext}\") # Appending random number to filename\n",
    "        if not os.path.exists(output_path): # check if file exists\n",
    "            transformed_image.save(output_path)\n",
    "            break"
   ]
  },
  {
   "cell_type": "code",
   "execution_count": 6,
   "id": "e3783f97-30e6-462c-b06f-19307b9337e7",
   "metadata": {
    "tags": []
   },
   "outputs": [],
   "source": [
    "def main(input_dir, output_dir, total_output_count):\n",
    "    os.makedirs(output_dir, exist_ok=True)\n",
    "    image_files = [f for f in os.listdir(input_dir) if os.path.isfile(os.path.join(input_dir, f))]\n",
    "    total_images = len(image_files)\n",
    "\n",
    "    for _ in range(total_output_count):\n",
    "        image_file = random.choice(image_files)\n",
    "        input_path = os.path.join(input_dir, image_file)\n",
    "        process_image(input_path, output_dir)\n",
    "        if len(os.listdir(output_dir)) >= total_output_count:\n",
    "            break"
   ]
  },
  {
   "cell_type": "code",
   "execution_count": 8,
   "id": "79b3cc3d-b913-44c0-9424-dd1c57dbc8bc",
   "metadata": {
    "tags": []
   },
   "outputs": [],
   "source": [
    "if __name__ == \"__main__\":\n",
    "    input_directory = \"F:\\\\Defects\\\\20 Rubber\"\n",
    "    output_directory = \"C:\\\\Users\\\\Hellr\\\\Documents\\\\Mask R-CNN\\\\dataset\\\\Rubber\"\n",
    "    total_output_count = 100  # Total number of images in the output directory\n",
    "\n",
    "    main(input_directory, output_directory, total_output_count)"
   ]
  },
  {
   "cell_type": "code",
   "execution_count": null,
   "id": "c0eab58a-9594-4a5b-9d6e-bdabffeb680b",
   "metadata": {},
   "outputs": [],
   "source": []
  }
 ],
 "metadata": {
  "kernelspec": {
   "display_name": "Python 3 (ipykernel)",
   "language": "python",
   "name": "python3"
  },
  "language_info": {
   "codemirror_mode": {
    "name": "ipython",
    "version": 3
   },
   "file_extension": ".py",
   "mimetype": "text/x-python",
   "name": "python",
   "nbconvert_exporter": "python",
   "pygments_lexer": "ipython3",
   "version": "3.11.5"
  }
 },
 "nbformat": 4,
 "nbformat_minor": 5
}
